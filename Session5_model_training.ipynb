{
 "cells": [
  {
   "cell_type": "code",
   "execution_count": 1,
   "id": "e28a22ad",
   "metadata": {},
   "outputs": [],
   "source": [
    "import torch\n",
    "import torch.nn as nn\n",
    "import torch.nn.functional as F\n",
    "import torch.optim as optim\n",
    "from torchvision import datasets, transforms\n",
    "from tqdm import tqdm\n",
    "import matplotlib.pyplot as plt"
   ]
  },
  {
   "cell_type": "code",
   "execution_count": 2,
   "id": "23232bc4",
   "metadata": {},
   "outputs": [
    {
     "name": "stdout",
     "output_type": "stream",
     "text": [
      "MPS Available\n"
     ]
    }
   ],
   "source": [
    "if torch.cuda.is_available():\n",
    "    device = torch.device(\"cuda\")\n",
    "    print(\"CUDA Available\")\n",
    "elif torch.backends.mps.is_available():\n",
    "    device = torch.device(\"mps\")\n",
    "    print(\"MPS Available\")\n",
    "else:\n",
    "    device = torch.device(\"cpu\")\n",
    "    print(\"Using CPU\")"
   ]
  },
  {
   "cell_type": "code",
   "execution_count": 3,
   "id": "6b2c5d51",
   "metadata": {},
   "outputs": [],
   "source": [
    "\n",
    "# train_transforms = transforms.Compose([\n",
    "#     transforms.RandomRotation((-7., 7.), fill=0),\n",
    "#     transforms.ToTensor(),\n",
    "#     transforms.Normalize((0.1307,), (0.3081,)),\n",
    "# ])\n",
    "\n",
    "# test_transforms = transforms.Compose([\n",
    "#     transforms.ToTensor(),\n",
    "#     transforms.Normalize((0.1307,), (0.3081,))\n",
    "# ])\n",
    "\n",
    "train_transforms = transforms.Compose([\n",
    "                        transforms.RandomAffine(degrees=7, translate=(0.08, 0.08)),\n",
    "                        transforms.ToTensor(),\n",
    "                        transforms.Normalize((0.1307,), (0.3081,)),\n",
    "                        transforms.RandomErasing(p=0.05, scale=(0.02, 0.05), ratio=(0.3, 3.3))  # tiny, optional\n",
    "                        ])\n",
    "test_transforms = transforms.Compose([\n",
    "                        transforms.ToTensor(),\n",
    "                        transforms.Normalize((0.1307,), (0.3081,))\n",
    "                    ])"
   ]
  },
  {
   "cell_type": "code",
   "execution_count": 4,
   "id": "3d173d68",
   "metadata": {},
   "outputs": [],
   "source": [
    "train_data = datasets.MNIST('../data', train=True, download=True, transform=train_transforms)\n",
    "test_data = datasets.MNIST('../data', train=False, download=True, transform=test_transforms)"
   ]
  },
  {
   "cell_type": "code",
   "execution_count": 12,
   "id": "a16161f3",
   "metadata": {},
   "outputs": [],
   "source": [
    "# Data loaders\n",
    "batch_size = 128\n",
    "kwargs = {'batch_size': batch_size, 'shuffle': True, 'num_workers': 2, 'pin_memory': True}\n",
    "\n",
    "train_loader = torch.utils.data.DataLoader(train_data, **kwargs)\n",
    "test_loader = torch.utils.data.DataLoader(test_data, batch_size=1000, shuffle=False)"
   ]
  },
  {
   "cell_type": "code",
   "execution_count": 19,
   "id": "9c0e66ad",
   "metadata": {},
   "outputs": [
    {
     "data": {
      "image/png": "[encoded data removed]",
      "text/plain": [
       "<Figure size 1200x800 with 12 Axes>"
      ]
     },
     "metadata": {},
     "output_type": "display_data"
    }
   ],
   "source": [
    "# Visualize some training samples\n",
    "def visualize_batch():\n",
    "    batch_data, batch_label = next(iter(train_loader))\n",
    "    fig = plt.figure(figsize=(12, 8))\n",
    "    for i in range(12):\n",
    "        plt.subplot(3, 4, i+1)\n",
    "        plt.tight_layout()\n",
    "        plt.imshow(batch_data[i].squeeze(0), cmap='gray')\n",
    "        plt.title(batch_label[i].item())\n",
    "        plt.xticks([])\n",
    "        plt.yticks([])\n",
    "    plt.show()\n",
    "\n",
    "visualize_batch()"
   ]
  },
  {
   "cell_type": "code",
   "execution_count": 14,
   "id": "7791558c",
   "metadata": {},
   "outputs": [],
   "source": [
    "class Net(nn.Module):\n",
    "    def __init__(self):\n",
    "        super(Net, self).__init__()\n",
    "        # Drastically reduced channels to meet <25K constraint\n",
    "        self.conv1 = nn.Conv2d(1, 14, kernel_size=3, bias=True)  # (3*3*1 + 1) * 8 = 80  584.   \n",
    "        self.bn1 = nn.BatchNorm2d(14)  # 16\n",
    "\n",
    "        self.conv2 = nn.Conv2d(14, 18, kernel_size=3, bias=True)  # (3*3*8 + 1) * 16 = 1,168 2320\n",
    "        self.bn2 = nn.BatchNorm2d(18)  # 32\n",
    "\n",
    "        # self.conv3 = nn.Conv2d(14, 20, kernel_size=3,  bias=True)  # (3*3*16 + 1) * 24 = 3,480 6944\n",
    "        # self.bn3 = nn.BatchNorm2d(20)  # 48\n",
    "\n",
    "        self.pool1 = nn.MaxPool2d(2, 2)\n",
    "\n",
    "        self.conv4 = nn.Conv2d(18, 18, kernel_size=3, bias=True)  # (3*3*24 + 1) * 32 = 6,944 11560\n",
    "        self.bn4 = nn.BatchNorm2d(18)  # 64\n",
    "        self.conv5 = nn.Conv2d(18, 24, kernel_size=3, bias=True)  # 14x14\n",
    "        self.bn5 = nn.BatchNorm2d(24)\n",
    "        self.pool2 = nn.MaxPool2d(2, 2)  # 14->7\n",
    "\n",
    "        self.conv6 = nn.Conv2d(24, 24, kernel_size=3, padding=1, bias=True)  # 7x7\n",
    "        self.bn6 = nn.BatchNorm2d(24)\n",
    "        self.conv7 = nn.Conv2d(24, 24, kernel_size=3, bias=True)  # 7x7\n",
    "        self.bn7 = nn.BatchNorm2d(24)\n",
    "\n",
    "        #self.classifier = nn.Conv2d(26, 10, kernel_size=1, bias=True)  # 7x7 -> 1x1\n",
    "\n",
    "        # self.conv4 = nn.Conv2d(32, 40, kernel_size=3)  # (3*3*32 + 1) * 40 = 6,944 11560\n",
    "        # self.bn4 = nn.BatchNorm2d(40)  # 64\n",
    "\n",
    "        # After convolutions: 32 * 1 * 1 = 32\n",
    "\n",
    "        # self.fc1 = nn.Linear(26*2*2, 16)  # (32 + 1) * 24 = 792. 1312\n",
    "        # self.dropout = nn.Dropout(0.1)\n",
    "        # self.fc2 = nn.Linear(16, 10)  # (24 + 1) * 10 = 250 330\n",
    "\n",
    "        self.gap  = nn.AdaptiveAvgPool2d(1)   # add this\n",
    "        self.fc   = nn.Linear(24, 10)         # replace fc1/fc2 head\n",
    "\n",
    "        # Total: 80 + 16 + 1,168 + 32 + 3,480 + 48 + 6,944 + 64 + 792 + 250 = 12,874 parameters\n",
    "\n",
    "        #self._initialize_weights()\n",
    "\n",
    "    def _initialize_weights(self):\n",
    "        for m in self.modules():\n",
    "            if isinstance(m, nn.Conv2d):\n",
    "                nn.init.kaiming_normal_(m.weight, mode='fan_out', nonlinearity='relu')\n",
    "                if m.bias is not None:\n",
    "                    nn.init.constant_(m.bias, 0)\n",
    "            elif isinstance(m, nn.BatchNorm2d):\n",
    "                nn.init.constant_(m.weight, 1)\n",
    "                nn.init.constant_(m.bias, 0)\n",
    "            elif isinstance(m, nn.Linear):\n",
    "                nn.init.xavier_uniform_(m.weight)\n",
    "                nn.init.constant_(m.bias, 0)\n",
    "\n",
    "    def forward(self, x):\n",
    "        x = F.relu(self.bn1(self.conv1(x)))\n",
    "        x = F.relu(self.bn2(self.conv2(x)))\n",
    "        # x = F.relu(self.bn3(self.conv3(x)))\n",
    "        x = self.pool1(x)\n",
    "\n",
    "        x = F.relu(self.bn4(self.conv4(x)))\n",
    "        x = F.relu(self.bn5(self.conv5(x)))\n",
    "        x = self.pool2(x)\n",
    "\n",
    "        x = F.relu(self.bn6(self.conv6(x)))  # 5x5 -> 3x3\n",
    "        x = F.relu(self.bn7(self.conv7(x)))  # 5x5 -> 3x3\n",
    "\n",
    "        # x = F.adaptive_avg_pool2d(x, 1)           # (N, 26, 1, 1)\n",
    "        # x = self.classifier(x)  # (N, num_classes)\n",
    "        #x = x.view(-1, 26)\n",
    "        # x = x.view(x.size(0), -1) \n",
    "        # x = F.relu(self.fc1(x))\n",
    "        # x = self.dropout(x)\n",
    "        # x = self.fc2(x)\n",
    "\n",
    "        x = self.gap(x)                             # (N, 26, 1, 1)\n",
    "        x = torch.flatten(x, 1)                     # (N, 26) — SAFE (never drops batch)\n",
    "        x = self.fc(x)                              # (N, 10)\n",
    "        #return F.log_softmax(x, dim=1)\n",
    "        return x\n",
    "\n",
    "    def count_parameters(self):\n",
    "        return sum(p.numel() for p in self.parameters() if p.requires_grad)"
   ]
  },
  {
   "cell_type": "code",
   "execution_count": 15,
   "id": "b108d813",
   "metadata": {},
   "outputs": [],
   "source": [
    "# Training and testing functions\n",
    "train_losses = []\n",
    "test_losses = []\n",
    "train_acc = []\n",
    "test_acc = []\n",
    "model = Net().to(device)  # Using improved model\n",
    "test_incorrect_pred = {'images': [], 'ground_truths': [], 'predicted_vals': []}"
   ]
  },
  {
   "cell_type": "code",
   "execution_count": 16,
   "id": "daaa9138",
   "metadata": {},
   "outputs": [],
   "source": [
    "def GetCorrectPredCount(pPrediction, pLabels):\n",
    "    return pPrediction.argmax(dim=1).eq(pLabels).sum().item()\n",
    "\n",
    "def train(model, device, train_loader, optimizer, criterion, epoch, scheduler=None):\n",
    "    model.train()\n",
    "    pbar = tqdm(train_loader)\n",
    "\n",
    "    train_loss = 0\n",
    "    correct = 0\n",
    "    processed = 0\n",
    "\n",
    "    for batch_idx, (data, target) in enumerate(pbar):\n",
    "        data, target = data.to(device), target.to(device)\n",
    "        optimizer.zero_grad()\n",
    "\n",
    "        pred = model(data)\n",
    "        loss = criterion(pred, target)\n",
    "        train_loss += loss.item()\n",
    "\n",
    "        loss.backward()\n",
    "        optimizer.step()\n",
    "\n",
    "        if scheduler is not None:\n",
    "            scheduler.step()\n",
    "\n",
    "        correct += GetCorrectPredCount(pred, target)\n",
    "        processed += len(data)\n",
    "\n",
    "        pbar.set_description(desc=f'Epoch {epoch} | Loss={loss.item():0.4f} | Acc={100*correct/processed:0.2f}%')\n",
    "\n",
    "    train_accuracy = 100*correct/processed\n",
    "    train_acc.append(train_accuracy)\n",
    "    train_losses.append(train_loss/len(train_loader))\n",
    "\n",
    "    print(f'\\nTraining - Epoch {epoch}:')\n",
    "    print(f'  Accuracy: {correct}/{processed} ({train_accuracy:.2f}%)')\n",
    "    print(f'  Avg Loss: {train_loss/len(train_loader):.4f}')\n",
    "\n",
    "    return train_accuracy\n",
    "\n",
    "def test(model, device, test_loader, criterion):\n",
    "    model.eval()\n",
    "\n",
    "    test_loss = 0\n",
    "    correct = 0\n",
    "\n",
    "    with torch.no_grad():\n",
    "        for data, target in test_loader:\n",
    "            data, target = data.to(device), target.to(device)\n",
    "            output = model(data)\n",
    "            test_loss += criterion(output, target).item() * len(data)\n",
    "            correct += GetCorrectPredCount(output, target)\n",
    "\n",
    "    test_loss /= len(test_loader.dataset)\n",
    "    accuracy = 100. * correct / len(test_loader.dataset)\n",
    "    test_acc.append(accuracy)\n",
    "    test_losses.append(test_loss)\n",
    "\n",
    "    print(f'Test Results:')\n",
    "    print(f'  Accuracy: {correct}/{len(test_loader.dataset)} ({accuracy:.2f}%)')\n",
    "    print(f'  Avg Loss: {test_loss:.4f}')\n",
    "\n",
    "    return accuracy"
   ]
  },
  {
   "cell_type": "code",
   "execution_count": 17,
   "id": "f2fae31b",
   "metadata": {},
   "outputs": [
    {
     "name": "stdout",
     "output_type": "stream",
     "text": [
      "\n",
      "Model Parameters: 20,182\n",
      "Model Architecture:\n",
      "Net(\n",
      "  (conv1): Conv2d(1, 14, kernel_size=(3, 3), stride=(1, 1))\n",
      "  (bn1): BatchNorm2d(14, eps=1e-05, momentum=0.1, affine=True, track_running_stats=True)\n",
      "  (conv2): Conv2d(14, 18, kernel_size=(3, 3), stride=(1, 1))\n",
      "  (bn2): BatchNorm2d(18, eps=1e-05, momentum=0.1, affine=True, track_running_stats=True)\n",
      "  (pool1): MaxPool2d(kernel_size=2, stride=2, padding=0, dilation=1, ceil_mode=False)\n",
      "  (conv4): Conv2d(18, 18, kernel_size=(3, 3), stride=(1, 1))\n",
      "  (bn4): BatchNorm2d(18, eps=1e-05, momentum=0.1, affine=True, track_running_stats=True)\n",
      "  (conv5): Conv2d(18, 24, kernel_size=(3, 3), stride=(1, 1))\n",
      "  (bn5): BatchNorm2d(24, eps=1e-05, momentum=0.1, affine=True, track_running_stats=True)\n",
      "  (pool2): MaxPool2d(kernel_size=2, stride=2, padding=0, dilation=1, ceil_mode=False)\n",
      "  (conv6): Conv2d(24, 24, kernel_size=(3, 3), stride=(1, 1), padding=(1, 1))\n",
      "  (bn6): BatchNorm2d(24, eps=1e-05, momentum=0.1, affine=True, track_running_stats=True)\n",
      "  (conv7): Conv2d(24, 24, kernel_size=(3, 3), stride=(1, 1))\n",
      "  (bn7): BatchNorm2d(24, eps=1e-05, momentum=0.1, affine=True, track_running_stats=True)\n",
      "  (gap): AdaptiveAvgPool2d(output_size=1)\n",
      "  (fc): Linear(in_features=24, out_features=10, bias=True)\n",
      ")\n",
      "==================================================\n",
      "\n",
      "Optimizer: AdamW (lr=0.008, weight_decay=1e-6)\n",
      "Loss: CrossEntropyLoss\n",
      "Epochs: 20\n",
      "Batch Size: 128\n",
      "Training Samples: 60,000\n",
      "Test Samples: 10,000\n",
      "============================================================\n",
      "\n",
      "Starting training...\n"
     ]
    },
    {
     "name": "stderr",
     "output_type": "stream",
     "text": [
      "  0%|          | 0/469 [00:00<?, ?it/s]"
     ]
    },
    {
     "name": "stderr",
     "output_type": "stream",
     "text": [
      "/opt/anaconda3/lib/python3.12/site-packages/torch/utils/data/dataloader.py:684: UserWarning: 'pin_memory' argument is set as true but not supported on MPS now, then device pinned memory won't be used.\n",
      "  warnings.warn(warn_msg)\n",
      "Epoch 1 | Loss=0.3693 | Acc=94.34%: 100%|██████████| 469/469 [00:11<00:00, 39.32it/s] \n"
     ]
    },
    {
     "name": "stdout",
     "output_type": "stream",
     "text": [
      "\n",
      "Training - Epoch 1:\n",
      "  Accuracy: 56606/60000 (94.34%)\n",
      "  Avg Loss: 0.5444\n",
      "Test Results:\n",
      "  Accuracy: 9861/10000 (98.61%)\n",
      "  Avg Loss: 0.3425\n"
     ]
    },
    {
     "name": "stderr",
     "output_type": "stream",
     "text": [
      "Epoch 2 | Loss=0.3474 | Acc=98.24%: 100%|██████████| 469/469 [00:06<00:00, 70.78it/s]\n"
     ]
    },
    {
     "name": "stdout",
     "output_type": "stream",
     "text": [
      "\n",
      "Training - Epoch 2:\n",
      "  Accuracy: 58943/60000 (98.24%)\n",
      "  Avg Loss: 0.3556\n",
      "Test Results:\n",
      "  Accuracy: 9884/10000 (98.84%)\n",
      "  Avg Loss: 0.3294\n"
     ]
    },
    {
     "name": "stderr",
     "output_type": "stream",
     "text": [
      "Epoch 3 | Loss=0.3421 | Acc=98.39%: 100%|██████████| 469/469 [00:06<00:00, 73.05it/s]\n"
     ]
    },
    {
     "name": "stdout",
     "output_type": "stream",
     "text": [
      "\n",
      "Training - Epoch 3:\n",
      "  Accuracy: 59031/60000 (98.39%)\n",
      "  Avg Loss: 0.3471\n",
      "Test Results:\n",
      "  Accuracy: 9907/10000 (99.07%)\n",
      "  Avg Loss: 0.3294\n"
     ]
    },
    {
     "name": "stderr",
     "output_type": "stream",
     "text": [
      "Epoch 4 | Loss=0.3491 | Acc=98.58%: 100%|██████████| 469/469 [00:06<00:00, 73.15it/s]\n"
     ]
    },
    {
     "name": "stdout",
     "output_type": "stream",
     "text": [
      "\n",
      "Training - Epoch 4:\n",
      "  Accuracy: 59146/60000 (98.58%)\n",
      "  Avg Loss: 0.3396\n",
      "Test Results:\n",
      "  Accuracy: 9924/10000 (99.24%)\n",
      "  Avg Loss: 0.3195\n"
     ]
    },
    {
     "name": "stderr",
     "output_type": "stream",
     "text": [
      "Epoch 5 | Loss=0.3153 | Acc=98.72%: 100%|██████████| 469/469 [00:06<00:00, 73.66it/s]\n"
     ]
    },
    {
     "name": "stdout",
     "output_type": "stream",
     "text": [
      "\n",
      "Training - Epoch 5:\n",
      "  Accuracy: 59231/60000 (98.72%)\n",
      "  Avg Loss: 0.3328\n",
      "Test Results:\n",
      "  Accuracy: 9931/10000 (99.31%)\n",
      "  Avg Loss: 0.3132\n"
     ]
    },
    {
     "name": "stderr",
     "output_type": "stream",
     "text": [
      "Epoch 6 | Loss=0.3694 | Acc=98.93%: 100%|██████████| 469/469 [00:06<00:00, 73.09it/s]\n"
     ]
    },
    {
     "name": "stdout",
     "output_type": "stream",
     "text": [
      "\n",
      "Training - Epoch 6:\n",
      "  Accuracy: 59356/60000 (98.93%)\n",
      "  Avg Loss: 0.3258\n",
      "Test Results:\n",
      "  Accuracy: 9936/10000 (99.36%)\n",
      "  Avg Loss: 0.3139\n"
     ]
    },
    {
     "name": "stderr",
     "output_type": "stream",
     "text": [
      "Epoch 7 | Loss=0.3297 | Acc=98.93%: 100%|██████████| 469/469 [00:06<00:00, 74.58it/s] \n"
     ]
    },
    {
     "name": "stdout",
     "output_type": "stream",
     "text": [
      "\n",
      "Training - Epoch 7:\n",
      "  Accuracy: 59357/60000 (98.93%)\n",
      "  Avg Loss: 0.3259\n",
      "Test Results:\n",
      "  Accuracy: 9948/10000 (99.48%)\n",
      "  Avg Loss: 0.3088\n"
     ]
    },
    {
     "name": "stderr",
     "output_type": "stream",
     "text": [
      "Epoch 8 | Loss=0.3139 | Acc=99.02%: 100%|██████████| 469/469 [00:06<00:00, 73.11it/s]\n"
     ]
    },
    {
     "name": "stdout",
     "output_type": "stream",
     "text": [
      "\n",
      "Training - Epoch 8:\n",
      "  Accuracy: 59409/60000 (99.02%)\n",
      "  Avg Loss: 0.3216\n",
      "Test Results:\n",
      "  Accuracy: 9940/10000 (99.40%)\n",
      "  Avg Loss: 0.3076\n"
     ]
    },
    {
     "name": "stderr",
     "output_type": "stream",
     "text": [
      "Epoch 9 | Loss=0.3567 | Acc=99.14%: 100%|██████████| 469/469 [00:06<00:00, 73.46it/s]\n"
     ]
    },
    {
     "name": "stdout",
     "output_type": "stream",
     "text": [
      "\n",
      "Training - Epoch 9:\n",
      "  Accuracy: 59485/60000 (99.14%)\n",
      "  Avg Loss: 0.3181\n",
      "Test Results:\n",
      "  Accuracy: 9928/10000 (99.28%)\n",
      "  Avg Loss: 0.3086\n"
     ]
    },
    {
     "name": "stderr",
     "output_type": "stream",
     "text": [
      "Epoch 10 | Loss=0.3146 | Acc=99.17%: 100%|██████████| 469/469 [00:06<00:00, 73.91it/s]\n"
     ]
    },
    {
     "name": "stdout",
     "output_type": "stream",
     "text": [
      "\n",
      "Training - Epoch 10:\n",
      "  Accuracy: 59504/60000 (99.17%)\n",
      "  Avg Loss: 0.3164\n",
      "Test Results:\n",
      "  Accuracy: 9948/10000 (99.48%)\n",
      "  Avg Loss: 0.3044\n"
     ]
    },
    {
     "name": "stderr",
     "output_type": "stream",
     "text": [
      "Epoch 11 | Loss=0.3671 | Acc=99.15%: 100%|██████████| 469/469 [00:06<00:00, 71.44it/s]\n"
     ]
    },
    {
     "name": "stdout",
     "output_type": "stream",
     "text": [
      "\n",
      "Training - Epoch 11:\n",
      "  Accuracy: 59492/60000 (99.15%)\n",
      "  Avg Loss: 0.3155\n",
      "Test Results:\n",
      "  Accuracy: 9944/10000 (99.44%)\n",
      "  Avg Loss: 0.3048\n"
     ]
    },
    {
     "name": "stderr",
     "output_type": "stream",
     "text": [
      "Epoch 12 | Loss=0.3145 | Acc=99.29%: 100%|██████████| 469/469 [00:06<00:00, 74.31it/s] \n"
     ]
    },
    {
     "name": "stdout",
     "output_type": "stream",
     "text": [
      "\n",
      "Training - Epoch 12:\n",
      "  Accuracy: 59576/60000 (99.29%)\n",
      "  Avg Loss: 0.3116\n",
      "Test Results:\n",
      "  Accuracy: 9937/10000 (99.37%)\n",
      "  Avg Loss: 0.3044\n"
     ]
    },
    {
     "name": "stderr",
     "output_type": "stream",
     "text": [
      "Epoch 13 | Loss=0.3032 | Acc=99.30%: 100%|██████████| 469/469 [00:06<00:00, 73.55it/s]\n"
     ]
    },
    {
     "name": "stdout",
     "output_type": "stream",
     "text": [
      "\n",
      "Training - Epoch 13:\n",
      "  Accuracy: 59582/60000 (99.30%)\n",
      "  Avg Loss: 0.3097\n",
      "Test Results:\n",
      "  Accuracy: 9959/10000 (99.59%)\n",
      "  Avg Loss: 0.2995\n"
     ]
    },
    {
     "name": "stderr",
     "output_type": "stream",
     "text": [
      "Epoch 14 | Loss=0.3058 | Acc=99.38%: 100%|██████████| 469/469 [00:06<00:00, 73.15it/s]\n"
     ]
    },
    {
     "name": "stdout",
     "output_type": "stream",
     "text": [
      "\n",
      "Training - Epoch 14:\n",
      "  Accuracy: 59630/60000 (99.38%)\n",
      "  Avg Loss: 0.3074\n",
      "Test Results:\n",
      "  Accuracy: 9958/10000 (99.58%)\n",
      "  Avg Loss: 0.2991\n"
     ]
    },
    {
     "name": "stderr",
     "output_type": "stream",
     "text": [
      "Epoch 15 | Loss=0.3046 | Acc=99.43%: 100%|██████████| 469/469 [00:06<00:00, 73.03it/s]\n"
     ]
    },
    {
     "name": "stdout",
     "output_type": "stream",
     "text": [
      "\n",
      "Training - Epoch 15:\n",
      "  Accuracy: 59658/60000 (99.43%)\n",
      "  Avg Loss: 0.3055\n",
      "Test Results:\n",
      "  Accuracy: 9953/10000 (99.53%)\n",
      "  Avg Loss: 0.2996\n"
     ]
    },
    {
     "name": "stderr",
     "output_type": "stream",
     "text": [
      "Epoch 16 | Loss=0.2953 | Acc=99.46%: 100%|██████████| 469/469 [00:06<00:00, 73.57it/s]\n"
     ]
    },
    {
     "name": "stdout",
     "output_type": "stream",
     "text": [
      "\n",
      "Training - Epoch 16:\n",
      "  Accuracy: 59675/60000 (99.46%)\n",
      "  Avg Loss: 0.3050\n",
      "Test Results:\n",
      "  Accuracy: 9955/10000 (99.55%)\n",
      "  Avg Loss: 0.2989\n"
     ]
    },
    {
     "name": "stderr",
     "output_type": "stream",
     "text": [
      "Epoch 17 | Loss=0.2905 | Acc=99.55%: 100%|██████████| 469/469 [00:06<00:00, 72.64it/s]\n"
     ]
    },
    {
     "name": "stdout",
     "output_type": "stream",
     "text": [
      "\n",
      "Training - Epoch 17:\n",
      "  Accuracy: 59729/60000 (99.55%)\n",
      "  Avg Loss: 0.3023\n",
      "Test Results:\n",
      "  Accuracy: 9955/10000 (99.55%)\n",
      "  Avg Loss: 0.2979\n"
     ]
    },
    {
     "name": "stderr",
     "output_type": "stream",
     "text": [
      "Epoch 18 | Loss=0.2979 | Acc=99.57%: 100%|██████████| 469/469 [00:06<00:00, 72.92it/s]\n"
     ]
    },
    {
     "name": "stdout",
     "output_type": "stream",
     "text": [
      "\n",
      "Training - Epoch 18:\n",
      "  Accuracy: 59743/60000 (99.57%)\n",
      "  Avg Loss: 0.3006\n",
      "Test Results:\n",
      "  Accuracy: 9958/10000 (99.58%)\n",
      "  Avg Loss: 0.2972\n"
     ]
    },
    {
     "name": "stderr",
     "output_type": "stream",
     "text": [
      "Epoch 19 | Loss=0.2866 | Acc=99.59%: 100%|██████████| 469/469 [00:06<00:00, 73.49it/s]\n"
     ]
    },
    {
     "name": "stdout",
     "output_type": "stream",
     "text": [
      "\n",
      "Training - Epoch 19:\n",
      "  Accuracy: 59752/60000 (99.59%)\n",
      "  Avg Loss: 0.3003\n",
      "Test Results:\n",
      "  Accuracy: 9956/10000 (99.56%)\n",
      "  Avg Loss: 0.2966\n"
     ]
    },
    {
     "name": "stderr",
     "output_type": "stream",
     "text": [
      "Epoch 20 | Loss=0.2945 | Acc=99.62%: 100%|██████████| 469/469 [00:06<00:00, 73.44it/s]\n"
     ]
    },
    {
     "name": "stdout",
     "output_type": "stream",
     "text": [
      "\n",
      "Training - Epoch 20:\n",
      "  Accuracy: 59770/60000 (99.62%)\n",
      "  Avg Loss: 0.2993\n",
      "Test Results:\n",
      "  Accuracy: 9959/10000 (99.59%)\n",
      "  Avg Loss: 0.2970\n"
     ]
    }
   ],
   "source": [
    "# Training setup\n",
    "from torch.optim.lr_scheduler import OneCycleLR\n",
    "total_params = model.count_parameters()\n",
    "print(f\"\\nModel Parameters: {total_params:,}\")\n",
    "print(f\"Model Architecture:\")\n",
    "print(model)\n",
    "print(\"=\"*50 + \"\\n\")\n",
    "\n",
    "# Use AdamW for better regularization with small models\n",
    "optimizer = optim.AdamW(model.parameters(), lr=0.006, weight_decay=1e-6)\n",
    "print(f\"Optimizer: AdamW (lr=0.008, weight_decay=1e-6)\")\n",
    "\n",
    "\n",
    "criterion = nn.CrossEntropyLoss(label_smoothing=0.05)\n",
    "num_epochs = 20\n",
    "scheduler = OneCycleLR(\n",
    "    optimizer,\n",
    "    max_lr=0.02,                        # try 0.008–0.02; 0.01 is a good start\n",
    "    epochs=num_epochs,\n",
    "    steps_per_epoch=len(train_loader),\n",
    "    pct_start=0.2,                      # warmup portion\n",
    "    div_factor=10, final_div_factor=100\n",
    ")\n",
    "\n",
    "\n",
    "\n",
    "print(f\"Loss: CrossEntropyLoss\")\n",
    "print(f\"Epochs: {num_epochs}\")\n",
    "print(f\"Batch Size: {batch_size}\")\n",
    "print(f\"Training Samples: {len(train_data):,}\")\n",
    "print(f\"Test Samples: {len(test_data):,}\")\n",
    "print(\"=\"*60 + \"\\n\")\n",
    "\n",
    "# Training loop\n",
    "print(\"Starting training...\")\n",
    "best_test_acc = 0\n",
    "\n",
    "for epoch in range(1, num_epochs+1):\n",
    "    # Train\n",
    "    train_accuracy = train(model, device, train_loader, optimizer, criterion, epoch, scheduler)\n",
    "\n",
    "    # Test\n",
    "    test_accuracy = test(model, device, test_loader, criterion)\n",
    "    # if test_accuracy > best_acc:\n",
    "    #     best_acc = test_accuracy\n",
    "    #     best_state = {k: v.cpu() for k, v in model.state_dict().items()}\n",
    "# after training:\n",
    "# if best_state is not None:\n",
    "#     model.load_state_dict(best_state)\n"
   ]
  },
  {
   "cell_type": "code",
   "execution_count": 20,
   "id": "2f89d016",
   "metadata": {},
   "outputs": [
    {
     "data": {
      "image/png": "[encoded data removed]",
      "text/plain": [
       "<Figure size 1500x1000 with 4 Axes>"
      ]
     },
     "metadata": {},
     "output_type": "display_data"
    },
    {
     "name": "stdout",
     "output_type": "stream",
     "text": [
      "\n",
      "============================================================\n",
      "============================================================\n",
      "Model Parameters: 20,182 (< 25,000 ✓)\n",
      "Final Training Accuracy: 99.62%\n",
      "Final Test Accuracy: 99.59%\n",
      "Best Test Accuracy: 0.00%\n",
      "First Epoch Training Accuracy: 94.34%\n",
      "\n",
      "⚠ First epoch accuracy was 94.34% (target was 99.4%)\n",
      "  Tips to improve:\n",
      "  - Try the LightweightNet or UltraLightNet models\n",
      "  - Increase learning rate slightly\n",
      "  - Use smaller batch size for more updates\n",
      "============================================================\n"
     ]
    }
   ],
   "source": [
    "# Plot results\n",
    "fig, axs = plt.subplots(2, 2, figsize=(15, 10))\n",
    "\n",
    "# Training Loss\n",
    "axs[0, 0].plot(train_losses, 'b-', linewidth=2)\n",
    "#axs[0, 0].set_title(f\"Training Loss ({model_name})\", fontsize=12, fontweight='bold')\n",
    "axs[0, 0].set_xlabel(\"Epoch\")\n",
    "axs[0, 0].set_ylabel(\"Loss\")\n",
    "axs[0, 0].grid(True, alpha=0.3)\n",
    "\n",
    "# Training Accuracy\n",
    "axs[1, 0].plot(train_acc, 'g-', linewidth=2)\n",
    "#axs[1, 0].set_title(f\"Training Accuracy ({model_name})\", fontsize=12, fontweight='bold')\n",
    "axs[1, 0].set_xlabel(\"Epoch\")\n",
    "axs[1, 0].set_ylabel(\"Accuracy (%)\")\n",
    "axs[1, 0].grid(True, alpha=0.3)\n",
    "axs[1, 0].axhline(y=99.4, color='r', linestyle='--', alpha=0.5, label='Target: 99.4%')\n",
    "axs[1, 0].legend()\n",
    "\n",
    "# Test Loss\n",
    "axs[0, 1].plot(test_losses, 'r-', linewidth=2)\n",
    "#axs[0, 1].set_title(f\"Test Loss ({model_name})\", fontsize=12, fontweight='bold')\n",
    "axs[0, 1].set_xlabel(\"Epoch\")\n",
    "axs[0, 1].set_ylabel(\"Loss\")\n",
    "axs[0, 1].grid(True, alpha=0.3)\n",
    "\n",
    "# Test Accuracy\n",
    "axs[1, 1].plot(test_acc, 'orange', linewidth=2)\n",
    "#axs[1, 1].set_title(f\"Test Accuracy ({model_name})\", fontsize=12, fontweight='bold')\n",
    "axs[1, 1].set_xlabel(\"Epoch\")\n",
    "axs[1, 1].set_ylabel(\"Accuracy (%)\")\n",
    "axs[1, 1].grid(True, alpha=0.3)\n",
    "\n",
    "#plt.suptitle(f\"Training Results - {model_name} ({total_params:,} parameters)\", fontsize=14, fontweight='bold')\n",
    "plt.tight_layout()\n",
    "plt.show()\n",
    "\n",
    "# Final summary\n",
    "print(f\"\\n{'='*60}\")\n",
    "#print(f\"FINAL SUMMARY - {model_name}\")\n",
    "print(f\"{'='*60}\")\n",
    "print(f\"Model Parameters: {total_params:,} (< 25,000 ✓)\")\n",
    "print(f\"Final Training Accuracy: {train_acc[-1]:.2f}%\")\n",
    "print(f\"Final Test Accuracy: {test_acc[-1]:.2f}%\")\n",
    "print(f\"Best Test Accuracy: {best_test_acc:.2f}%\")\n",
    "print(f\"First Epoch Training Accuracy: {train_acc[0]:.2f}%\")\n",
    "\n",
    "if train_acc[0] >= 99.4:\n",
    "    print(f\"\\n✓ SUCCESS: Achieved {train_acc[0]:.2f}% training accuracy in first epoch!\")\n",
    "else:\n",
    "    print(f\"\\n⚠ First epoch accuracy was {train_acc[0]:.2f}% (target was 99.4%)\")\n",
    "    print(\"  Tips to improve:\")\n",
    "    print(\"  - Try the LightweightNet or UltraLightNet models\")\n",
    "    print(\"  - Increase learning rate slightly\")\n",
    "    print(\"  - Use smaller batch size for more updates\")\n",
    "\n",
    "print(f\"{'='*60}\")"
   ]
  }
 ],
 "metadata": {
  "kernelspec": {
   "display_name": "base",
   "language": "python",
   "name": "python3"
  },
  "language_info": {
   "codemirror_mode": {
    "name": "ipython",
    "version": 3
   },
   "file_extension": ".py",
   "mimetype": "text/x-python",
   "name": "python",
   "nbconvert_exporter": "python",
   "pygments_lexer": "ipython3",
   "version": "3.12.7"
  }
 },
 "nbformat": 4,
 "nbformat_minor": 5
}
