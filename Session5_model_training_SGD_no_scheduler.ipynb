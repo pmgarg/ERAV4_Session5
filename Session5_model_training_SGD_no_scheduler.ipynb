{
 "cells": [
  {
   "cell_type": "code",
   "execution_count": 1,
   "id": "e28a22ad",
   "metadata": {},
   "outputs": [],
   "source": [
    "import torch\n",
    "import torch.nn as nn\n",
    "import torch.nn.functional as F\n",
    "import torch.optim as optim\n",
    "from torchvision import datasets, transforms\n",
    "from tqdm import tqdm\n",
    "import matplotlib.pyplot as plt"
   ]
  },
  {
   "cell_type": "code",
   "execution_count": 2,
   "id": "23232bc4",
   "metadata": {},
   "outputs": [
    {
     "name": "stdout",
     "output_type": "stream",
     "text": [
      "MPS Available\n"
     ]
    }
   ],
   "source": [
    "if torch.cuda.is_available():\n",
    "    device = torch.device(\"cuda\")\n",
    "    print(\"CUDA Available\")\n",
    "elif torch.backends.mps.is_available():\n",
    "    device = torch.device(\"mps\")\n",
    "    print(\"MPS Available\")\n",
    "else:\n",
    "    device = torch.device(\"cpu\")\n",
    "    print(\"Using CPU\")"
   ]
  },
  {
   "cell_type": "code",
   "execution_count": 3,
   "id": "6b2c5d51",
   "metadata": {},
   "outputs": [],
   "source": [
    "train_transforms = transforms.Compose([\n",
    "                        transforms.RandomAffine(degrees=7, translate=(0.08, 0.08)),\n",
    "                        transforms.ToTensor(),\n",
    "                        transforms.Normalize((0.1307,), (0.3081,)),\n",
    "                        transforms.RandomErasing(p=0.05, scale=(0.02, 0.05), ratio=(0.3, 3.3))  # tiny, optional\n",
    "                        ])\n",
    "test_transforms = transforms.Compose([\n",
    "                        transforms.ToTensor(),\n",
    "                        transforms.Normalize((0.1307,), (0.3081,))\n",
    "                    ])"
   ]
  },
  {
   "cell_type": "code",
   "execution_count": 4,
   "id": "3d173d68",
   "metadata": {},
   "outputs": [],
   "source": [
    "train_data = datasets.MNIST('../data', train=True, download=True, transform=train_transforms)\n",
    "test_data = datasets.MNIST('../data', train=False, download=True, transform=test_transforms)"
   ]
  },
  {
   "cell_type": "code",
   "execution_count": 5,
   "id": "a16161f3",
   "metadata": {},
   "outputs": [],
   "source": [
    "# Data loaders\n",
    "batch_size = 128\n",
    "kwargs = {'batch_size': batch_size, 'shuffle': True, 'num_workers': 2, 'pin_memory': True}\n",
    "\n",
    "train_loader = torch.utils.data.DataLoader(train_data, **kwargs)\n",
    "test_loader = torch.utils.data.DataLoader(test_data, batch_size=1000, shuffle=False)"
   ]
  },
  {
   "cell_type": "code",
   "execution_count": 6,
   "id": "9c0e66ad",
   "metadata": {},
   "outputs": [
    {
     "name": "stderr",
     "output_type": "stream",
     "text": [
      "/opt/anaconda3/lib/python3.12/site-packages/torch/utils/data/dataloader.py:684: UserWarning: 'pin_memory' argument is set as true but not supported on MPS now, then device pinned memory won't be used.\n",
      "  warnings.warn(warn_msg)\n"
     ]
    },
    {
     "data": {
      "image/png": "[encoded data removed]",
      "text/plain": [
       "<Figure size 1200x800 with 12 Axes>"
      ]
     },
     "metadata": {},
     "output_type": "display_data"
    }
   ],
   "source": [
    "# Visualize some training samples\n",
    "def visualize_batch():\n",
    "    batch_data, batch_label = next(iter(train_loader))\n",
    "    fig = plt.figure(figsize=(12, 8))\n",
    "    for i in range(12):\n",
    "        plt.subplot(3, 4, i+1)\n",
    "        plt.tight_layout()\n",
    "        plt.imshow(batch_data[i].squeeze(0), cmap='gray')\n",
    "        plt.title(batch_label[i].item())\n",
    "        plt.xticks([])\n",
    "        plt.yticks([])\n",
    "    plt.show()\n",
    "\n",
    "visualize_batch()"
   ]
  },
  {
   "cell_type": "code",
   "execution_count": 17,
   "id": "7791558c",
   "metadata": {},
   "outputs": [],
   "source": [
    "class Net(nn.Module):\n",
    "    def __init__(self):\n",
    "        super(Net, self).__init__()\n",
    "        # Drastically reduced channels to meet <25K constraint\n",
    "        self.conv1 = nn.Conv2d(1, 14, kernel_size=3, bias=True)  # (3*3*1 + 1) * 14 = 140.   receptive = 3\n",
    "        self.bn1 = nn.BatchNorm2d(14)  # 28\n",
    "\n",
    "        self.conv2 = nn.Conv2d(14, 14, kernel_size=3, bias=True)  # (3*3*14 + 1) * 14 = 1778 receptive = 5\n",
    "        self.bn2 = nn.BatchNorm2d(14)  # 28\n",
    "\n",
    "        self.conv3 = nn.Conv2d(14, 16, kernel_size=3,  bias=True)  # (3*3*14 + 1) * 16 = 2032 receptive = 7\n",
    "        self.bn3 = nn.BatchNorm2d(16)  # 32\n",
    "\n",
    "        self.pool1 = nn.MaxPool2d(2, 2) #  receptive = 8\n",
    "\n",
    "        self.conv4 = nn.Conv2d(16, 18, kernel_size=3, bias=True)  # (3*3*16 + 1) * 18 =  2610  receptive = 12\n",
    "        self.bn4 = nn.BatchNorm2d(18)  # 36\n",
    "        self.conv5 = nn.Conv2d(18, 20, kernel_size=3, bias=True)  # (3*3*18 + 1) * 20 = 3260   receptive = 16\n",
    "        self.bn5 = nn.BatchNorm2d(20) # 40\n",
    "        self.pool2 = nn.MaxPool2d(2, 2)  # 14->7 receptive = 18\n",
    "\n",
    "        self.conv6 = nn.Conv2d(20, 22, kernel_size=3, padding=1, bias=True)  # (3*3*20 + 1) * 22 = 3982 receptive = 26\n",
    "        self.bn6 = nn.BatchNorm2d(22) # 44\n",
    "        self.conv7 = nn.Conv2d(22, 22, kernel_size=3, bias=True)  # (3*3*22 + 1) * 22 = 4378 receptive = 34\n",
    "        self.bn7 = nn.BatchNorm2d(22) # 44\n",
    "\n",
    "\n",
    "        self.gap  = nn.AdaptiveAvgPool2d(1)   # add this\n",
    "        self.fc   = nn.Linear(22, 10)         #  22*10 + 10 =220\n",
    "\n",
    "        # 140 + 28 + 1778 + 28 + 2032 + 32 + 2610 + 36 + 3260 + 40 + 3982 + 44 + 4378 + 44 + 220 = 18,662\n",
    "\n",
    "\n",
    "    def forward(self, x):\n",
    "        x = F.relu(self.bn1(self.conv1(x)))\n",
    "        x = F.relu(self.bn2(self.conv2(x)))\n",
    "        x = F.relu(self.bn3(self.conv3(x)))\n",
    "        x = self.pool1(x)\n",
    "\n",
    "        x = F.relu(self.bn4(self.conv4(x)))\n",
    "        x = F.relu(self.bn5(self.conv5(x)))\n",
    "        x = self.pool2(x)\n",
    "\n",
    "        x = F.relu(self.bn6(self.conv6(x)))  # 5x5 -> 3x3\n",
    "        x = F.relu(self.bn7(self.conv7(x)))  # 5x5 -> 3x3\n",
    "\n",
    "        x = self.gap(x)                             # (N, 26, 1, 1)\n",
    "        x = torch.flatten(x, 1)                     # (N, 26) — SAFE (never drops batch)\n",
    "        x = self.fc(x)                              # (N, 10)\n",
    "        return x\n",
    "\n",
    "    def count_parameters(self):\n",
    "        return sum(p.numel() for p in self.parameters() if p.requires_grad)"
   ]
  },
  {
   "cell_type": "code",
   "execution_count": 18,
   "id": "b108d813",
   "metadata": {},
   "outputs": [],
   "source": [
    "# Training and testing functions\n",
    "train_losses = []\n",
    "test_losses = []\n",
    "train_acc = []\n",
    "test_acc = []\n",
    "model = Net().to(device)  # Using improved model\n",
    "test_incorrect_pred = {'images': [], 'ground_truths': [], 'predicted_vals': []}"
   ]
  },
  {
   "cell_type": "code",
   "execution_count": 19,
   "id": "daaa9138",
   "metadata": {},
   "outputs": [],
   "source": [
    "def GetCorrectPredCount(pPrediction, pLabels):\n",
    "    return pPrediction.argmax(dim=1).eq(pLabels).sum().item()\n",
    "\n",
    "def train(model, device, train_loader, optimizer, criterion, epoch, scheduler=None):\n",
    "    model.train()\n",
    "    pbar = tqdm(train_loader)\n",
    "\n",
    "    train_loss = 0\n",
    "    correct = 0\n",
    "    processed = 0\n",
    "\n",
    "    for batch_idx, (data, target) in enumerate(pbar):\n",
    "        data, target = data.to(device), target.to(device)\n",
    "        optimizer.zero_grad()\n",
    "\n",
    "        pred = model(data)\n",
    "        loss = criterion(pred, target)\n",
    "        train_loss += loss.item()\n",
    "\n",
    "        loss.backward()\n",
    "        optimizer.step()\n",
    "\n",
    "        if scheduler is not None:\n",
    "            scheduler.step()\n",
    "\n",
    "        correct += GetCorrectPredCount(pred, target)\n",
    "        processed += len(data)\n",
    "\n",
    "        pbar.set_description(desc=f'Epoch {epoch} | Loss={loss.item():0.4f} | Acc={100*correct/processed:0.2f}%')\n",
    "\n",
    "    train_accuracy = 100*correct/processed\n",
    "    train_acc.append(train_accuracy)\n",
    "    train_losses.append(train_loss/len(train_loader))\n",
    "\n",
    "    print(f'\\nTraining - Epoch {epoch}:')\n",
    "    print(f'  Accuracy: {correct}/{processed} ({train_accuracy:.2f}%)')\n",
    "    print(f'  Avg Loss: {train_loss/len(train_loader):.4f}')\n",
    "\n",
    "    return train_accuracy\n",
    "\n",
    "def test(model, device, test_loader, criterion):\n",
    "    model.eval()\n",
    "\n",
    "    test_loss = 0\n",
    "    correct = 0\n",
    "\n",
    "    with torch.no_grad():\n",
    "        for data, target in test_loader:\n",
    "            data, target = data.to(device), target.to(device)\n",
    "            output = model(data)\n",
    "            test_loss += criterion(output, target).item() * len(data)\n",
    "            correct += GetCorrectPredCount(output, target)\n",
    "\n",
    "    test_loss /= len(test_loader.dataset)\n",
    "    accuracy = 100. * correct / len(test_loader.dataset)\n",
    "    test_acc.append(accuracy)\n",
    "    test_losses.append(test_loss)\n",
    "\n",
    "    print(f'Test Results:')\n",
    "    print(f'  Accuracy: {correct}/{len(test_loader.dataset)} ({accuracy:.2f}%)')\n",
    "    print(f'  Avg Loss: {test_loss:.4f}')\n",
    "\n",
    "    return accuracy"
   ]
  },
  {
   "cell_type": "code",
   "execution_count": 20,
   "id": "f2fae31b",
   "metadata": {},
   "outputs": [
    {
     "name": "stdout",
     "output_type": "stream",
     "text": [
      "\n",
      "Model Parameters: 18,662\n",
      "Model Architecture:\n",
      "Net(\n",
      "  (conv1): Conv2d(1, 14, kernel_size=(3, 3), stride=(1, 1))\n",
      "  (bn1): BatchNorm2d(14, eps=1e-05, momentum=0.1, affine=True, track_running_stats=True)\n",
      "  (conv2): Conv2d(14, 14, kernel_size=(3, 3), stride=(1, 1))\n",
      "  (bn2): BatchNorm2d(14, eps=1e-05, momentum=0.1, affine=True, track_running_stats=True)\n",
      "  (conv3): Conv2d(14, 16, kernel_size=(3, 3), stride=(1, 1))\n",
      "  (bn3): BatchNorm2d(16, eps=1e-05, momentum=0.1, affine=True, track_running_stats=True)\n",
      "  (pool1): MaxPool2d(kernel_size=2, stride=2, padding=0, dilation=1, ceil_mode=False)\n",
      "  (conv4): Conv2d(16, 18, kernel_size=(3, 3), stride=(1, 1))\n",
      "  (bn4): BatchNorm2d(18, eps=1e-05, momentum=0.1, affine=True, track_running_stats=True)\n",
      "  (conv5): Conv2d(18, 20, kernel_size=(3, 3), stride=(1, 1))\n",
      "  (bn5): BatchNorm2d(20, eps=1e-05, momentum=0.1, affine=True, track_running_stats=True)\n",
      "  (pool2): MaxPool2d(kernel_size=2, stride=2, padding=0, dilation=1, ceil_mode=False)\n",
      "  (conv6): Conv2d(20, 22, kernel_size=(3, 3), stride=(1, 1), padding=(1, 1))\n",
      "  (bn6): BatchNorm2d(22, eps=1e-05, momentum=0.1, affine=True, track_running_stats=True)\n",
      "  (conv7): Conv2d(22, 22, kernel_size=(3, 3), stride=(1, 1))\n",
      "  (bn7): BatchNorm2d(22, eps=1e-05, momentum=0.1, affine=True, track_running_stats=True)\n",
      "  (gap): AdaptiveAvgPool2d(output_size=1)\n",
      "  (fc): Linear(in_features=22, out_features=10, bias=True)\n",
      ")\n",
      "==================================================\n",
      "\n",
      "Optimizer: SGD (lr=0.006, weight_decay=1e-6)\n",
      "Loss: CrossEntropyLoss\n",
      "Epochs: 20\n",
      "Batch Size: 128\n",
      "Training Samples: 60,000\n",
      "Test Samples: 10,000\n",
      "============================================================\n",
      "\n",
      "Starting training...\n"
     ]
    },
    {
     "name": "stderr",
     "output_type": "stream",
     "text": [
      "Epoch 1 | Loss=1.1535 | Acc=64.31%: 100%|██████████| 469/469 [00:06<00:00, 68.52it/s] \n"
     ]
    },
    {
     "name": "stdout",
     "output_type": "stream",
     "text": [
      "\n",
      "Training - Epoch 1:\n",
      "  Accuracy: 38587/60000 (64.31%)\n",
      "  Avg Loss: 1.5547\n",
      "Test Results:\n",
      "  Accuracy: 9057/10000 (90.57%)\n",
      "  Avg Loss: 0.9392\n"
     ]
    },
    {
     "name": "stderr",
     "output_type": "stream",
     "text": [
      "Epoch 2 | Loss=0.6907 | Acc=88.46%: 100%|██████████| 469/469 [00:06<00:00, 72.29it/s]\n"
     ]
    },
    {
     "name": "stdout",
     "output_type": "stream",
     "text": [
      "\n",
      "Training - Epoch 2:\n",
      "  Accuracy: 53074/60000 (88.46%)\n",
      "  Avg Loss: 0.8768\n",
      "Test Results:\n",
      "  Accuracy: 9618/10000 (96.18%)\n",
      "  Avg Loss: 0.5404\n"
     ]
    },
    {
     "name": "stderr",
     "output_type": "stream",
     "text": [
      "Epoch 3 | Loss=0.4877 | Acc=93.42%: 100%|██████████| 469/469 [00:06<00:00, 73.20it/s]\n"
     ]
    },
    {
     "name": "stdout",
     "output_type": "stream",
     "text": [
      "\n",
      "Training - Epoch 3:\n",
      "  Accuracy: 56050/60000 (93.42%)\n",
      "  Avg Loss: 0.5956\n",
      "Test Results:\n",
      "  Accuracy: 9719/10000 (97.19%)\n",
      "  Avg Loss: 0.4308\n"
     ]
    },
    {
     "name": "stderr",
     "output_type": "stream",
     "text": [
      "Epoch 4 | Loss=0.4318 | Acc=95.20%: 100%|██████████| 469/469 [00:06<00:00, 72.02it/s]\n"
     ]
    },
    {
     "name": "stdout",
     "output_type": "stream",
     "text": [
      "\n",
      "Training - Epoch 4:\n",
      "  Accuracy: 57123/60000 (95.20%)\n",
      "  Avg Loss: 0.4904\n",
      "Test Results:\n",
      "  Accuracy: 9780/10000 (97.80%)\n",
      "  Avg Loss: 0.3819\n"
     ]
    },
    {
     "name": "stderr",
     "output_type": "stream",
     "text": [
      "Epoch 5 | Loss=0.4934 | Acc=96.08%: 100%|██████████| 469/469 [00:06<00:00, 74.13it/s]\n"
     ]
    },
    {
     "name": "stdout",
     "output_type": "stream",
     "text": [
      "\n",
      "Training - Epoch 5:\n",
      "  Accuracy: 57649/60000 (96.08%)\n",
      "  Avg Loss: 0.4437\n",
      "Test Results:\n",
      "  Accuracy: 9826/10000 (98.26%)\n",
      "  Avg Loss: 0.3654\n"
     ]
    },
    {
     "name": "stderr",
     "output_type": "stream",
     "text": [
      "Epoch 6 | Loss=0.4861 | Acc=96.58%: 100%|██████████| 469/469 [00:06<00:00, 72.98it/s]\n"
     ]
    },
    {
     "name": "stdout",
     "output_type": "stream",
     "text": [
      "\n",
      "Training - Epoch 6:\n",
      "  Accuracy: 57951/60000 (96.58%)\n",
      "  Avg Loss: 0.4178\n",
      "Test Results:\n",
      "  Accuracy: 9829/10000 (98.29%)\n",
      "  Avg Loss: 0.3608\n"
     ]
    },
    {
     "name": "stderr",
     "output_type": "stream",
     "text": [
      "Epoch 7 | Loss=0.4332 | Acc=96.97%: 100%|██████████| 469/469 [00:06<00:00, 71.57it/s]\n"
     ]
    },
    {
     "name": "stdout",
     "output_type": "stream",
     "text": [
      "\n",
      "Training - Epoch 7:\n",
      "  Accuracy: 58180/60000 (96.97%)\n",
      "  Avg Loss: 0.4028\n",
      "Test Results:\n",
      "  Accuracy: 9850/10000 (98.50%)\n",
      "  Avg Loss: 0.3501\n"
     ]
    },
    {
     "name": "stderr",
     "output_type": "stream",
     "text": [
      "Epoch 8 | Loss=0.3994 | Acc=97.22%: 100%|██████████| 469/469 [00:06<00:00, 71.25it/s]\n"
     ]
    },
    {
     "name": "stdout",
     "output_type": "stream",
     "text": [
      "\n",
      "Training - Epoch 8:\n",
      "  Accuracy: 58330/60000 (97.22%)\n",
      "  Avg Loss: 0.3932\n",
      "Test Results:\n",
      "  Accuracy: 9832/10000 (98.32%)\n",
      "  Avg Loss: 0.3568\n"
     ]
    },
    {
     "name": "stderr",
     "output_type": "stream",
     "text": [
      "Epoch 9 | Loss=0.3648 | Acc=97.50%: 100%|██████████| 469/469 [00:06<00:00, 72.25it/s]\n"
     ]
    },
    {
     "name": "stdout",
     "output_type": "stream",
     "text": [
      "\n",
      "Training - Epoch 9:\n",
      "  Accuracy: 58497/60000 (97.50%)\n",
      "  Avg Loss: 0.3838\n",
      "Test Results:\n",
      "  Accuracy: 9853/10000 (98.53%)\n",
      "  Avg Loss: 0.3505\n"
     ]
    },
    {
     "name": "stderr",
     "output_type": "stream",
     "text": [
      "Epoch 10 | Loss=0.3440 | Acc=97.68%: 100%|██████████| 469/469 [00:06<00:00, 72.46it/s]\n"
     ]
    },
    {
     "name": "stdout",
     "output_type": "stream",
     "text": [
      "\n",
      "Training - Epoch 10:\n",
      "  Accuracy: 58606/60000 (97.68%)\n",
      "  Avg Loss: 0.3769\n",
      "Test Results:\n",
      "  Accuracy: 9863/10000 (98.63%)\n",
      "  Avg Loss: 0.3404\n"
     ]
    },
    {
     "name": "stderr",
     "output_type": "stream",
     "text": [
      "Epoch 11 | Loss=0.3945 | Acc=97.69%: 100%|██████████| 469/469 [00:06<00:00, 72.19it/s]\n"
     ]
    },
    {
     "name": "stdout",
     "output_type": "stream",
     "text": [
      "\n",
      "Training - Epoch 11:\n",
      "  Accuracy: 58616/60000 (97.69%)\n",
      "  Avg Loss: 0.3736\n",
      "Test Results:\n",
      "  Accuracy: 9878/10000 (98.78%)\n",
      "  Avg Loss: 0.3371\n"
     ]
    },
    {
     "name": "stderr",
     "output_type": "stream",
     "text": [
      "Epoch 12 | Loss=0.3808 | Acc=97.89%: 100%|██████████| 469/469 [00:06<00:00, 72.57it/s]\n"
     ]
    },
    {
     "name": "stdout",
     "output_type": "stream",
     "text": [
      "\n",
      "Training - Epoch 12:\n",
      "  Accuracy: 58737/60000 (97.89%)\n",
      "  Avg Loss: 0.3689\n",
      "Test Results:\n",
      "  Accuracy: 9868/10000 (98.68%)\n",
      "  Avg Loss: 0.3390\n"
     ]
    },
    {
     "name": "stderr",
     "output_type": "stream",
     "text": [
      "Epoch 13 | Loss=0.3880 | Acc=98.07%: 100%|██████████| 469/469 [00:06<00:00, 71.68it/s]\n"
     ]
    },
    {
     "name": "stdout",
     "output_type": "stream",
     "text": [
      "\n",
      "Training - Epoch 13:\n",
      "  Accuracy: 58842/60000 (98.07%)\n",
      "  Avg Loss: 0.3646\n",
      "Test Results:\n",
      "  Accuracy: 9879/10000 (98.79%)\n",
      "  Avg Loss: 0.3361\n"
     ]
    },
    {
     "name": "stderr",
     "output_type": "stream",
     "text": [
      "Epoch 14 | Loss=0.3343 | Acc=98.00%: 100%|██████████| 469/469 [00:06<00:00, 71.61it/s]\n"
     ]
    },
    {
     "name": "stdout",
     "output_type": "stream",
     "text": [
      "\n",
      "Training - Epoch 14:\n",
      "  Accuracy: 58800/60000 (98.00%)\n",
      "  Avg Loss: 0.3627\n",
      "Test Results:\n",
      "  Accuracy: 9893/10000 (98.93%)\n",
      "  Avg Loss: 0.3313\n"
     ]
    },
    {
     "name": "stderr",
     "output_type": "stream",
     "text": [
      "Epoch 15 | Loss=0.3538 | Acc=98.15%: 100%|██████████| 469/469 [00:06<00:00, 70.68it/s]\n"
     ]
    },
    {
     "name": "stdout",
     "output_type": "stream",
     "text": [
      "\n",
      "Training - Epoch 15:\n",
      "  Accuracy: 58892/60000 (98.15%)\n",
      "  Avg Loss: 0.3581\n",
      "Test Results:\n",
      "  Accuracy: 9902/10000 (99.02%)\n",
      "  Avg Loss: 0.3302\n"
     ]
    },
    {
     "name": "stderr",
     "output_type": "stream",
     "text": [
      "Epoch 16 | Loss=0.3777 | Acc=98.21%: 100%|██████████| 469/469 [00:06<00:00, 73.36it/s]\n"
     ]
    },
    {
     "name": "stdout",
     "output_type": "stream",
     "text": [
      "\n",
      "Training - Epoch 16:\n",
      "  Accuracy: 58926/60000 (98.21%)\n",
      "  Avg Loss: 0.3579\n",
      "Test Results:\n",
      "  Accuracy: 9916/10000 (99.16%)\n",
      "  Avg Loss: 0.3259\n"
     ]
    },
    {
     "name": "stderr",
     "output_type": "stream",
     "text": [
      "Epoch 17 | Loss=0.3129 | Acc=98.31%: 100%|██████████| 469/469 [00:06<00:00, 75.25it/s]\n"
     ]
    },
    {
     "name": "stdout",
     "output_type": "stream",
     "text": [
      "\n",
      "Training - Epoch 17:\n",
      "  Accuracy: 58983/60000 (98.31%)\n",
      "  Avg Loss: 0.3548\n",
      "Test Results:\n",
      "  Accuracy: 9912/10000 (99.12%)\n",
      "  Avg Loss: 0.3258\n"
     ]
    },
    {
     "name": "stderr",
     "output_type": "stream",
     "text": [
      "Epoch 18 | Loss=0.3686 | Acc=98.29%: 100%|██████████| 469/469 [00:06<00:00, 72.51it/s]\n"
     ]
    },
    {
     "name": "stdout",
     "output_type": "stream",
     "text": [
      "\n",
      "Training - Epoch 18:\n",
      "  Accuracy: 58976/60000 (98.29%)\n",
      "  Avg Loss: 0.3528\n",
      "Test Results:\n",
      "  Accuracy: 9912/10000 (99.12%)\n",
      "  Avg Loss: 0.3247\n"
     ]
    },
    {
     "name": "stderr",
     "output_type": "stream",
     "text": [
      "Epoch 19 | Loss=0.3306 | Acc=98.38%: 100%|██████████| 469/469 [00:06<00:00, 72.45it/s]\n"
     ]
    },
    {
     "name": "stdout",
     "output_type": "stream",
     "text": [
      "\n",
      "Training - Epoch 19:\n",
      "  Accuracy: 59030/60000 (98.38%)\n",
      "  Avg Loss: 0.3510\n",
      "Test Results:\n",
      "  Accuracy: 9924/10000 (99.24%)\n",
      "  Avg Loss: 0.3233\n"
     ]
    },
    {
     "name": "stderr",
     "output_type": "stream",
     "text": [
      "Epoch 20 | Loss=0.3652 | Acc=98.47%: 100%|██████████| 469/469 [00:06<00:00, 71.41it/s]\n"
     ]
    },
    {
     "name": "stdout",
     "output_type": "stream",
     "text": [
      "\n",
      "Training - Epoch 20:\n",
      "  Accuracy: 59079/60000 (98.47%)\n",
      "  Avg Loss: 0.3493\n",
      "Test Results:\n",
      "  Accuracy: 9910/10000 (99.10%)\n",
      "  Avg Loss: 0.3242\n"
     ]
    }
   ],
   "source": [
    "# Training setup\n",
    "from torch.optim.lr_scheduler import OneCycleLR\n",
    "total_params = model.count_parameters()\n",
    "print(f\"\\nModel Parameters: {total_params:,}\")\n",
    "print(f\"Model Architecture:\")\n",
    "print(model)\n",
    "print(\"=\"*50 + \"\\n\")\n",
    "\n",
    "# Use AdamW for better regularization with small models\n",
    "optimizer = optim.SGD(model.parameters(), lr=0.006, weight_decay=1e-4)\n",
    "print(f\"Optimizer: SGD (lr=0.006, weight_decay=1e-6)\")\n",
    "\n",
    "\n",
    "criterion = nn.CrossEntropyLoss(label_smoothing=0.05)\n",
    "num_epochs = 20\n",
    "\n",
    "\n",
    "\n",
    "print(f\"Loss: CrossEntropyLoss\")\n",
    "print(f\"Epochs: {num_epochs}\")\n",
    "print(f\"Batch Size: {batch_size}\")\n",
    "print(f\"Training Samples: {len(train_data):,}\")\n",
    "print(f\"Test Samples: {len(test_data):,}\")\n",
    "print(\"=\"*60 + \"\\n\")\n",
    "\n",
    "# Training loop\n",
    "print(\"Starting training...\")\n",
    "best_test_acc = 0\n",
    "\n",
    "for epoch in range(1, num_epochs+1):\n",
    "    # Train\n",
    "    train_accuracy = train(model, device, train_loader, optimizer, criterion, epoch)\n",
    "\n",
    "    # Test\n",
    "    test_accuracy = test(model, device, test_loader, criterion)\n",
    "    \n"
   ]
  },
  {
   "cell_type": "code",
   "execution_count": 21,
   "id": "2f89d016",
   "metadata": {},
   "outputs": [
    {
     "data": {
      "image/png": "[encoded data removed]",
      "text/plain": [
       "<Figure size 1500x1000 with 4 Axes>"
      ]
     },
     "metadata": {},
     "output_type": "display_data"
    },
    {
     "name": "stdout",
     "output_type": "stream",
     "text": [
      "\n",
      "============================================================\n",
      "============================================================\n",
      "Model Parameters: 18,662 (< 25,000 ✓)\n",
      "Final Training Accuracy: 98.47%\n",
      "Final Test Accuracy: 99.10%\n",
      "Best Test Accuracy: 0.00%\n",
      "First Epoch Training Accuracy: 64.31%\n",
      "\n",
      "⚠ First epoch accuracy was 64.31% (target was 99.4%)\n",
      "  Tips to improve:\n",
      "  - Try the LightweightNet or UltraLightNet models\n",
      "  - Increase learning rate slightly\n",
      "  - Use smaller batch size for more updates\n",
      "============================================================\n"
     ]
    }
   ],
   "source": [
    "# Plot results\n",
    "fig, axs = plt.subplots(2, 2, figsize=(15, 10))\n",
    "\n",
    "# Training Loss\n",
    "axs[0, 0].plot(train_losses, 'b-', linewidth=2)\n",
    "#axs[0, 0].set_title(f\"Training Loss ({model_name})\", fontsize=12, fontweight='bold')\n",
    "axs[0, 0].set_xlabel(\"Epoch\")\n",
    "axs[0, 0].set_ylabel(\"Loss\")\n",
    "axs[0, 0].grid(True, alpha=0.3)\n",
    "\n",
    "# Training Accuracy\n",
    "axs[1, 0].plot(train_acc, 'g-', linewidth=2)\n",
    "#axs[1, 0].set_title(f\"Training Accuracy ({model_name})\", fontsize=12, fontweight='bold')\n",
    "axs[1, 0].set_xlabel(\"Epoch\")\n",
    "axs[1, 0].set_ylabel(\"Accuracy (%)\")\n",
    "axs[1, 0].grid(True, alpha=0.3)\n",
    "axs[1, 0].axhline(y=99.4, color='r', linestyle='--', alpha=0.5, label='Target: 99.4%')\n",
    "axs[1, 0].legend()\n",
    "\n",
    "# Test Loss\n",
    "axs[0, 1].plot(test_losses, 'r-', linewidth=2)\n",
    "#axs[0, 1].set_title(f\"Test Loss ({model_name})\", fontsize=12, fontweight='bold')\n",
    "axs[0, 1].set_xlabel(\"Epoch\")\n",
    "axs[0, 1].set_ylabel(\"Loss\")\n",
    "axs[0, 1].grid(True, alpha=0.3)\n",
    "\n",
    "# Test Accuracy\n",
    "axs[1, 1].plot(test_acc, 'orange', linewidth=2)\n",
    "#axs[1, 1].set_title(f\"Test Accuracy ({model_name})\", fontsize=12, fontweight='bold')\n",
    "axs[1, 1].set_xlabel(\"Epoch\")\n",
    "axs[1, 1].set_ylabel(\"Accuracy (%)\")\n",
    "axs[1, 1].grid(True, alpha=0.3)\n",
    "\n",
    "#plt.suptitle(f\"Training Results - {model_name} ({total_params:,} parameters)\", fontsize=14, fontweight='bold')\n",
    "plt.tight_layout()\n",
    "plt.show()\n",
    "\n",
    "# Final summary\n",
    "print(f\"\\n{'='*60}\")\n",
    "#print(f\"FINAL SUMMARY - {model_name}\")\n",
    "print(f\"{'='*60}\")\n",
    "print(f\"Model Parameters: {total_params:,} (< 25,000 ✓)\")\n",
    "print(f\"Final Training Accuracy: {train_acc[-1]:.2f}%\")\n",
    "print(f\"Final Test Accuracy: {test_acc[-1]:.2f}%\")\n",
    "print(f\"Best Test Accuracy: {best_test_acc:.2f}%\")\n",
    "print(f\"First Epoch Training Accuracy: {train_acc[0]:.2f}%\")\n",
    "\n",
    "if train_acc[0] >= 99.4:\n",
    "    print(f\"\\n✓ SUCCESS: Achieved {train_acc[0]:.2f}% training accuracy in first epoch!\")\n",
    "else:\n",
    "    print(f\"\\n⚠ First epoch accuracy was {train_acc[0]:.2f}% (target was 99.4%)\")\n",
    "    print(\"  Tips to improve:\")\n",
    "    print(\"  - Try the LightweightNet or UltraLightNet models\")\n",
    "    print(\"  - Increase learning rate slightly\")\n",
    "    print(\"  - Use smaller batch size for more updates\")\n",
    "\n",
    "print(f\"{'='*60}\")"
   ]
  }
 ],
 "metadata": {
  "kernelspec": {
   "display_name": "base",
   "language": "python",
   "name": "python3"
  },
  "language_info": {
   "codemirror_mode": {
    "name": "ipython",
    "version": 3
   },
   "file_extension": ".py",
   "mimetype": "text/x-python",
   "name": "python",
   "nbconvert_exporter": "python",
   "pygments_lexer": "ipython3",
   "version": "3.12.7"
  }
 },
 "nbformat": 4,
 "nbformat_minor": 5
}
